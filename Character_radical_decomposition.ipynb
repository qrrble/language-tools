{
 "cells": [
  {
   "cell_type": "code",
   "execution_count": 36,
   "metadata": {},
   "outputs": [],
   "source": [
    "import pandas as pd\n",
    "hanzi_df = pd.read_csv('data/chn_hanzi_frequency.csv')\n",
    "hanzi_set = set(hanzi_df['Character'])\n",
    "\n",
    "\n",
    "f = open('cjk-decomp.txt', \"r\")\n",
    "lines = f.readlines()\n",
    "\n",
    "master_chn_char_radical_dict = {}\n",
    "\n",
    "for line in lines:\n",
    "    l = line.split(':')\n",
    "    character = l[0]\n",
    "    decomp = l[1]\n",
    "    \n",
    "    decomp = decomp.partition('(')[2].partition(')')[0]\n",
    "    radicals = decomp.split(',')\n",
    "    \n",
    "    master_chn_char_radical_dict[character] = radicals"
   ]
  },
  {
   "cell_type": "code",
   "execution_count": 37,
   "metadata": {},
   "outputs": [],
   "source": [
    "radicals = []\n",
    "for index, row in hanzi_df.iterrows():\n",
    "    character = row['Character'] \n",
    "    if character in master_chn_char_radical_dict:\n",
    "        r = master_chn_char_radical_dict[row['Character']]\n",
    "        chn_char_radical_dict[character] = r\n",
    "        radicals.append(r)\n",
    "    else:\n",
    "        radicals.append(None)\n",
    "        \n",
    "hanzi_df['Radicals'] = radicals"
   ]
  },
  {
   "cell_type": "code",
   "execution_count": null,
   "metadata": {},
   "outputs": [],
   "source": [
    "# Checks for recursive decompositions\n",
    "counter = 0"
   ]
  },
  {
   "cell_type": "code",
   "execution_count": null,
   "metadata": {},
   "outputs": [],
   "source": []
  },
  {
   "cell_type": "code",
   "execution_count": 38,
   "metadata": {},
   "outputs": [],
   "source": [
    "# Saves dictionaries to pickle\n",
    "import pickle\n",
    "\n",
    "with open('data/chn_char_radical_dict.pkl', 'wb') as handle:\n",
    "    pickle.dump(chn_char_radical_dict, handle, protocol=pickle.HIGHEST_PROTOCOL)"
   ]
  }
 ],
 "metadata": {
  "kernelspec": {
   "display_name": "Python 3",
   "language": "python",
   "name": "python3"
  },
  "language_info": {
   "codemirror_mode": {
    "name": "ipython",
    "version": 3
   },
   "file_extension": ".py",
   "mimetype": "text/x-python",
   "name": "python",
   "nbconvert_exporter": "python",
   "pygments_lexer": "ipython3",
   "version": "3.7.4"
  }
 },
 "nbformat": 4,
 "nbformat_minor": 2
}
