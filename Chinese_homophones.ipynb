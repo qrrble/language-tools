{
 "cells": [
  {
   "cell_type": "markdown",
   "metadata": {},
   "source": [
    "Create a dictionary of Chinese characters and all their associated homophones."
   ]
  },
  {
   "cell_type": "code",
   "execution_count": 29,
   "metadata": {},
   "outputs": [],
   "source": [
    "import pandas as pd\n",
    "import pickle\n",
    "\n",
    "# Gets set of hanzi characters\n",
    "hanzi_df = pd.read_csv('data/chn_hanzi_frequency.csv')\n",
    "\n",
    "with open('data/CEDict_word_key_dict.pkl', 'rb') as handle:\n",
    "    CEDict_word_key_dict = pickle.load(handle)\n",
    "\n",
    "with open('data/CEDict_pinyin_key_dict.pkl', 'rb') as handle:\n",
    "    CEDict_pinyin_key_dict = pickle.load(handle)"
   ]
  },
  {
   "cell_type": "code",
   "execution_count": 30,
   "metadata": {},
   "outputs": [],
   "source": [
    "# Loops through list of characters, looks up all the pinyin, and adds to dictionary\n",
    "pinyin_char_dict = {}\n",
    "\n",
    "for index, row in hanzi_df.iterrows():\n",
    "    char_info = CEDict_word_key_dict.get(row['Character'])\n",
    "    if char_info != None:\n",
    "        pinyin = char_info['pinyin'] # List of pinyin\n",
    "        pinyin = [x.lower() for x in pinyin]\n",
    "        # Adds to pinyin to dictionary\n",
    "        for x in pinyin:\n",
    "            if x in pinyin_char_dict:\n",
    "                pinyin_char_dict[x] += [row['Character']]\n",
    "            else:\n",
    "                pinyin_char_dict[x] = [row['Character']]\n",
    "                \n",
    "                \n",
    "# Gets rid of duplicate entries for each key\n",
    "for key in pinyin_char_dict.keys():\n",
    "    pinyin_char_dict[key] = list(set(pinyin_char_dict[key]))"
   ]
  },
  {
   "cell_type": "code",
   "execution_count": 31,
   "metadata": {},
   "outputs": [
    {
     "data": {
      "text/plain": [
       "['粱', '踉', '粮', '量', '椋', '良', '梁', '凉', '辌']"
      ]
     },
     "execution_count": 31,
     "metadata": {},
     "output_type": "execute_result"
    }
   ],
   "source": [
    "pinyin_char_dict['liang2']"
   ]
  },
  {
   "cell_type": "code",
   "execution_count": 35,
   "metadata": {},
   "outputs": [],
   "source": [
    "# Saves dictionaries to pickle\n",
    "import pickle\n",
    "\n",
    "with open('data/pinyin_char_dict.pkl', 'wb') as handle:\n",
    "    pickle.dump(pinyin_char_dict, handle, protocol=pickle.HIGHEST_PROTOCOL)"
   ]
  }
 ],
 "metadata": {
  "kernelspec": {
   "display_name": "Python 3",
   "language": "python",
   "name": "python3"
  },
  "language_info": {
   "codemirror_mode": {
    "name": "ipython",
    "version": 3
   },
   "file_extension": ".py",
   "mimetype": "text/x-python",
   "name": "python",
   "nbconvert_exporter": "python",
   "pygments_lexer": "ipython3",
   "version": "3.7.4"
  }
 },
 "nbformat": 4,
 "nbformat_minor": 2
}
