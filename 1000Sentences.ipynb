{
 "cells": [
  {
   "cell_type": "code",
   "execution_count": 17,
   "metadata": {},
   "outputs": [
    {
     "data": {
      "text/plain": [
       "Index(['ID', 'HEADWORD', 'POS', 'ENGLISH', 'JAPANESE', 'SPANISH', 'INDONESIAN',\n",
       "       'EXAMPLE (KO)', 'EXAMPLE (EN)', 'EXAMPLE (JA)', 'EXAMPLE (ES)',\n",
       "       'EXAMPLE (ID)'],\n",
       "      dtype='object')"
      ]
     },
     "execution_count": 17,
     "metadata": {},
     "output_type": "execute_result"
    }
   ],
   "source": [
    "import pandas as pd\n",
    "import pickle\n",
    "\n",
    "df = pd.read_csv('data/1000sents.csv', delimiter = ',')\n",
    "df.head()\n",
    "df.columns"
   ]
  },
  {
   "cell_type": "code",
   "execution_count": 20,
   "metadata": {},
   "outputs": [],
   "source": [
    "sentences = df[['EXAMPLE (KO)','EXAMPLE (EN)','EXAMPLE (JA)']].sample(frac = 1)\n",
    "sentences.to_csv('KO-EN-JA_sentences.csv',index = False)"
   ]
  }
 ],
 "metadata": {
  "kernelspec": {
   "display_name": "Python 3",
   "language": "python",
   "name": "python3"
  },
  "language_info": {
   "codemirror_mode": {
    "name": "ipython",
    "version": 3
   },
   "file_extension": ".py",
   "mimetype": "text/x-python",
   "name": "python",
   "nbconvert_exporter": "python",
   "pygments_lexer": "ipython3",
   "version": "3.7.4"
  }
 },
 "nbformat": 4,
 "nbformat_minor": 2
}
