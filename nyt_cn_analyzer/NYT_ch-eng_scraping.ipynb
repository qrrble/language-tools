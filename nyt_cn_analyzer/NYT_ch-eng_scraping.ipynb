{
 "cells": [
  {
   "cell_type": "code",
   "execution_count": 121,
   "metadata": {},
   "outputs": [],
   "source": [
    "import requests\n",
    "from bs4 import BeautifulSoup\n",
    "import os"
   ]
  },
  {
   "cell_type": "markdown",
   "metadata": {},
   "source": [
    "## Scraping article links"
   ]
  },
  {
   "cell_type": "code",
   "execution_count": 194,
   "metadata": {},
   "outputs": [],
   "source": [
    "def GetNYTHeadlines():\n",
    "    r1 = requests.get('https://cn.nytimes.com/')\n",
    "    coverpage = r1.content\n",
    "    soup = BeautifulSoup(coverpage)\n",
    "\n",
    "    headline_data = soup.find_all('h3',class_='regularSummaryHeadline')\n",
    "\n",
    "    frontpage_articles = {}\n",
    "    for x in headline_data:\n",
    "        article_url = 'https://cn.nytimes.com'+x.find('a')['href']+'dual/'\n",
    "        article_title = x.get_text()\n",
    "        frontpage_articles[article_title] = article_url\n",
    "    \n",
    "    return frontpage_articles"
   ]
  },
  {
   "cell_type": "code",
   "execution_count": 195,
   "metadata": {},
   "outputs": [
    {
     "data": {
      "text/plain": [
       "{'伊朗高级指挥官在美军空袭中丧生': 'https://cn.nytimes.com/world/20200103/qassem-soleimani-iraq-iran-attack/',\n",
       " '台军参谋总长在坠机事故中死亡': 'https://cn.nytimes.com/asia-pacific/20200102/taiwan-military-chief-helicopter-crash/',\n",
       " '特朗普称美中本月签署初步贸易协议': 'https://cn.nytimes.com/business/20200102/trump-china-trade-dea/',\n",
       " '中国央行宣布降准，释放逾8000亿元': 'https://cn.nytimes.com/business/20200102/china-economy-reserve-requirement-ratio/',\n",
       " '聚焦新疆穆斯林少数民族劳工项目': 'https://cn.nytimes.com/china/20191231/china-xinjiang-muslims-labor/',\n",
       " '六个问题，了解澳大利亚火灾为何如此严重': 'https://cn.nytimes.com/asia-pacific/20200103/oz-fire-explainer/',\n",
       " '简报：中国科学家在美被调查；台黑鹰直升机失事': 'https://cn.nytimes.com/morning-brief/20200103/chinese-scientist-cancer-research-investigation-taiwan-helicopter-crash/',\n",
       " '2020年，少糖之年': 'https://cn.nytimes.com/health/20200103/sugar-diet-healthy/',\n",
       " '2020年值得关注的科技趋势': 'https://cn.nytimes.com/technology/20200102/tech-trends-2020/',\n",
       " '中国人对海参的无穷胃口导致物种危机': 'https://cn.nytimes.com/china/20191231/china-seacucumbers-fishing/'}"
      ]
     },
     "execution_count": 195,
     "metadata": {},
     "output_type": "execute_result"
    }
   ],
   "source": [
    "GetNYTHeadlines()"
   ]
  },
  {
   "cell_type": "code",
   "execution_count": 170,
   "metadata": {},
   "outputs": [],
   "source": []
  },
  {
   "cell_type": "markdown",
   "metadata": {},
   "source": [
    "## Error handling for bad webpages"
   ]
  },
  {
   "cell_type": "code",
   "execution_count": 143,
   "metadata": {},
   "outputs": [],
   "source": [
    "article_url = 'https://cn.nytimes.com/asia-pacific/20200102/taiwan-military-chief-helicopter-crash/dual'\n",
    "article_url = 'https://cn.nytimes.com/asia-pacific/20200102/taiwan-military-chief-helicopter-crash/'\n",
    "r1 = requests.get(article_url)\n",
    "coverpage = r1.content\n",
    "cn_soup = BeautifulSoup(coverpage)\n"
   ]
  },
  {
   "cell_type": "code",
   "execution_count": 144,
   "metadata": {},
   "outputs": [
    {
     "name": "stdout",
     "output_type": "stream",
     "text": [
      "Bad webpage!\n"
     ]
    }
   ],
   "source": [
    "active_links = cn_soup.find_all('a',class_=\"active\")\n",
    "\n",
    "bilingual_setting = None\n",
    "for x in active_links:\n",
    "    span_tag = x.find('span',class_='setting-btn-text')\n",
    "    if span_tag != None:\n",
    "        bilingual_setting = span_tag.get_text()\n",
    "        \n",
    "if bilingual_setting != '中英双语':\n",
    "    print('Bad webpage!')\n"
   ]
  },
  {
   "cell_type": "markdown",
   "metadata": {},
   "source": [
    "## Scraping from Chinese article"
   ]
  },
  {
   "cell_type": "code",
   "execution_count": 114,
   "metadata": {},
   "outputs": [],
   "source": [
    "# Retrieves Chinese edition of article\n",
    "article_url = 'https://cn.nytimes.com/asia-pacific/20200102/taiwan-military-chief-helicopter-crash/'\n",
    "\n",
    "def GetChnArticleText(input_url):\n",
    "    \n",
    "    r1 = requests.get(input_url)\n",
    "    coverpage = r1.content\n",
    "    cn_soup = BeautifulSoup(coverpage)\n",
    "    \n",
    "    # Title of article\n",
    "    title = cn_soup.find('title').get_text()\n",
    "\n",
    "    # Extracts article text. Excludes images and captions.\n",
    "    article_text = cn_soup.find_all('div',class_=\"article-paragraph\")\n",
    "    article_text = [x.get_text() for x in article_text if x.find('figure') == None]\n",
    "\n",
    "    return article_text"
   ]
  },
  {
   "cell_type": "code",
   "execution_count": 115,
   "metadata": {},
   "outputs": [
    {
     "data": {
      "text/plain": [
       "['台湾军方称，在周四一场例行飞行中，一架军用直升飞机在山坡上坠毁，造成包括台湾军队参谋总长在内的八人死亡。',\n",
       " '这架黑鹰直升机共载有13人，包括军方总参谋长、空军上将沈一鸣。军方称，直升机于上午8点前离开位于首都台北的松山机场，飞往台湾东北部的宜兰县执行视察任务。',\n",
       " '直升机最后一次与外界联络是在上午8点07分，军方尚未透露为何它会在台北东南部的山区坠毁。',\n",
       " '一名军方发言人周四上午称，救援人员正尽力到达坠机现场。机上的13人包括三名机组人员和10名军官。',\n",
       " '台湾总统蔡英文称这是“悲伤的一天”，“国军有好几位优秀将领和同仁，在事故中因公殉职”。',\n",
       " '她在Facebook上写道，沈一鸣是一位“优秀、称职的将领，也是大家爱戴的总长”。',\n",
       " '台湾正处于总统竞选的最后阶段，蔡英文目前选情占优，她的对手包括主要反对党国民党候选人、高雄市长韩国瑜。',\n",
       " '台湾长期以来一直是一个潜在的军事冲突点。中国声称自治的台湾是其领土的一部分，并威胁使用武力来阻止台湾追求正式独立。',\n",
       " '美国向台湾出售包括黑鹰直升机在内的军事装备用于其国防。2010年，作为一项64亿美元军售的一部分，奥巴马政府批准将60架黑鹰直升机出售给台湾。作为回应，中国暂时切断了与美国的部分军事联系。']"
      ]
     },
     "execution_count": 115,
     "metadata": {},
     "output_type": "execute_result"
    }
   ],
   "source": [
    "GetChnArticleText(article_url)"
   ]
  },
  {
   "cell_type": "markdown",
   "metadata": {},
   "source": [
    "## Scraping from dual English-Chinese article"
   ]
  },
  {
   "cell_type": "code",
   "execution_count": 118,
   "metadata": {},
   "outputs": [],
   "source": [
    "# Append '/dual' to end of Chinese article URL for bilingual edition\n",
    "bilingual_irl = os.path.join(article_url, 'dual')\n",
    "\n",
    "def GetDualArticleText(input_url):\n",
    "    r1 = requests.get(input_url)\n",
    "    coverpage = r1.content\n",
    "    bilingual_soup = BeautifulSoup(coverpage)\n",
    "    \n",
    "    # Title of article\n",
    "    ch_title = bilingual_soup.find('div', class_='article-header').find('h1').get_text()\n",
    "    en_title = bilingual_soup.find('h1',class_='en-title').get_text()\n",
    "\n",
    "    # Extracts dual language paragraphs\n",
    "    dual_items = bilingual_soup.find_all('div',class_='row article-dual-body-item')\n",
    "\n",
    "    # Splits up English and Chinese paragraphs\n",
    "    eng_items = []\n",
    "    ch_items = []\n",
    "    for x in dual_items:\n",
    "        paragraphs = x.find_all('div',class_='article-paragraph')\n",
    "        en_paragraph = paragraphs[0].get_text().replace(u'\\xa0', u' ')\n",
    "        ch_paragraph = paragraphs[1].get_text()\n",
    "        eng_items.append(en_paragraph)\n",
    "        ch_items.append(ch_paragraph)\n",
    "\n",
    "    return eng_items, ch_items"
   ]
  },
  {
   "cell_type": "code",
   "execution_count": 117,
   "metadata": {},
   "outputs": [
    {
     "data": {
      "text/plain": [
       "(['Eight people including the chief of Taiwan’s armed forces were killed Thursday after the military helicopter carrying them crashed on a mountainside during a routine trip, Taiwan’s military said.',\n",
       "  'The Black Hawk helicopter was carrying 13 people, including Shen Yi-ming, an air force general who served as the chief of general staff of Taiwan’s armed forces. The helicopter left Songshan Airport in Taipei, the capital, shortly before 8 a.m. to fly to Yilan County in northeastern Taiwan for an inspection, the military said.',\n",
       "  'The last contact with the helicopter was at 8:07 a.m. The military has not yet said what may have caused the crash in a mountainous district southeast of Taipei.',\n",
       "  'A military spokesman said Thursday morning that rescuers were struggling at the time to reach the crash site. The 13 people on board included three crew members and 10 military officials.',\n",
       "  ' Tsai Ing-wen, Taiwan’s president, called it “a sad day,” with “several excellent military leaders and colleagues killed in an accident in the line of duty.”',\n",
       "  'She wrote on Facebook that General Shen was an “excellent and well-qualified chief who was also beloved by all.”',\n",
       "  'Taiwan is in the final stretch of its presidential race, with Ms. Tsai holding a lead over Han Kuo-yu, the candidate from the main opposition party, the Kuomintang.',\n",
       "  'Taiwan has long been a potential flash point for military conflict. China claims self-ruled Taiwan as part of its territory and has threatened to use force to prevent it from pursuing formal independence.',\n",
       "  'The United States sells military equipment for Taiwan’s defense, including Black Hawk helicopters. The Obama administration approved the sale of 60 Black Hawks to Taiwan in 2010 as part of a $6.4 billion arms deal. China, in response, temporarily severed some military ties with the United States.'],\n",
       " ['台湾军方称，在周四一场例行飞行中，一架军用直升飞机在山坡上坠毁，造成包括台湾军队参谋总长在内的八人死亡。',\n",
       "  '这架黑鹰直升机共载有13人，包括军方总参谋长、空军上将沈一鸣。军方称，直升机于上午8点前离开位于首都台北的松山机场，飞往台湾东北部的宜兰县执行视察任务。',\n",
       "  '直升机最后一次与外界联络是在上午8点07分，军方尚未透露为何它会在台北东南部的山区坠毁。',\n",
       "  '一名军方发言人周四上午称，救援人员正尽力到达坠机现场。机上的13人包括三名机组人员和10名军官。',\n",
       "  '台湾总统蔡英文称这是“悲伤的一天”，“国军有好几位优秀将领和同仁，在事故中因公殉职”。',\n",
       "  '她在Facebook上写道，沈一鸣是一位“优秀、称职的将领，也是大家爱戴的总长”。',\n",
       "  '台湾正处于总统竞选的最后阶段，蔡英文目前选情占优，她的对手包括主要反对党国民党候选人、高雄市长韩国瑜。',\n",
       "  '台湾长期以来一直是一个潜在的军事冲突点。中国声称自治的台湾是其领土的一部分，并威胁使用武力来阻止台湾追求正式独立。',\n",
       "  '美国向台湾出售包括黑鹰直升机在内的军事装备用于其国防。2010年，作为一项64亿美元军售的一部分，奥巴马政府批准将60架黑鹰直升机出售给台湾。作为回应，中国暂时切断了与美国的部分军事联系。'])"
      ]
     },
     "execution_count": 117,
     "metadata": {},
     "output_type": "execute_result"
    }
   ],
   "source": [
    "GetDualArticleText(bilingual_irl)"
   ]
  }
 ],
 "metadata": {
  "kernelspec": {
   "display_name": "Python 3",
   "language": "python",
   "name": "python3"
  },
  "language_info": {
   "codemirror_mode": {
    "name": "ipython",
    "version": 3
   },
   "file_extension": ".py",
   "mimetype": "text/x-python",
   "name": "python",
   "nbconvert_exporter": "python",
   "pygments_lexer": "ipython3",
   "version": "3.7.4"
  }
 },
 "nbformat": 4,
 "nbformat_minor": 2
}
