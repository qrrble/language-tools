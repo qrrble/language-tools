{
 "cells": [
  {
   "cell_type": "code",
   "execution_count": 6,
   "metadata": {},
   "outputs": [],
   "source": [
    "# Converts the entries in CEDict into dictionaries\n",
    "\n",
    "CEDict_word_key_dict = {}\n",
    "CEDict_pinyin_key_dict = {}\n",
    "\n",
    "f = open('cedict_ts.u8', \"r\")\n",
    "lines = f.readlines()\n",
    "\n",
    "for line in lines:\n",
    "    l = line\n",
    "\n",
    "    #These are info lines at the beginning of the file\n",
    "    #NOTE: Might be useful to store version #, date, etc for dictionary reference\n",
    "    if l.startswith((\"#\", \"#!\")):\n",
    "        continue\n",
    "    else:\n",
    "        #partition out definition text, replace slshes with semicolons, normalize quotations, get rid of any \\n\n",
    "        defi = l.partition('/')[2].replace('/','; ').replace(\"\\\"\", \"'\").strip()\n",
    "        #Get trad and simpl hanzis then split and take only the simplified\n",
    "        han = l.partition('[')[0].split(' ', 1)[1].strip(\" \")\n",
    "        #Take the content in between the two brackets\n",
    "        pin = l.partition('[')[2].partition(']')[0]\n",
    "\n",
    "        #pin = convert(pin);\t\t\t\n",
    "        CEDict_word_key_dict[han] = {\"pinyin\":pin, \"def\":defi}\n",
    "        CEDict_pinyin_key_dict[pin] = {\"hanzi\":han, \"def\":defi}"
   ]
  },
  {
   "cell_type": "code",
   "execution_count": 7,
   "metadata": {},
   "outputs": [],
   "source": [
    "# Saves dictionaries to pickle\n",
    "import pickle\n",
    "\n",
    "with open('data/CEDict_word_key_dict.pkl', 'wb') as handle:\n",
    "    pickle.dump(CEDict_word_key_dict, handle, protocol=pickle.HIGHEST_PROTOCOL)\n",
    "    \n",
    "with open('data/CEDict_pinyin_key_dict.pkl', 'wb') as handle:\n",
    "    pickle.dump(CEDict_pinyin_key_dict, handle, protocol=pickle.HIGHEST_PROTOCOL)"
   ]
  }
 ],
 "metadata": {
  "kernelspec": {
   "display_name": "Python 3",
   "language": "python",
   "name": "python3"
  },
  "language_info": {
   "codemirror_mode": {
    "name": "ipython",
    "version": 3
   },
   "file_extension": ".py",
   "mimetype": "text/x-python",
   "name": "python",
   "nbconvert_exporter": "python",
   "pygments_lexer": "ipython3",
   "version": "3.7.4"
  }
 },
 "nbformat": 4,
 "nbformat_minor": 2
}
